{
  "nbformat": 4,
  "nbformat_minor": 0,
  "metadata": {
    "colab": {
      "provenance": []
    },
    "kernelspec": {
      "name": "python3",
      "display_name": "Python 3"
    },
    "language_info": {
      "name": "python"
    }
  },
  "cells": [
    {
      "cell_type": "code",
      "execution_count": 55,
      "metadata": {
        "id": "qAqnzYnWvdQi"
      },
      "outputs": [],
      "source": [
        "from bs4 import BeautifulSoup\n",
        "import requests\n",
        "import time"
      ]
    },
    {
      "cell_type": "code",
      "source": [
        "unfamiliar_skills = input('Enter the skills you are unfamiliar with: ')\n",
        "print(f'Filtering out {unfamiliar_skills}')\n",
        "\n",
        "print('')\n",
        "\n",
        "def find_jobs():\n",
        "  html_text = requests.get('https://www.timesjobs.com/candidate/job-search.html?searchType=personalizedSearch&from=submit&searchTextSrc=&searchTextText=&txtKeywords=python&txtLocation=').text\n",
        "  soup = BeautifulSoup(html_text, 'lxml')   #instance\n",
        "\n",
        "  jobs = soup.find_all('li',class_ = 'clearfix job-bx wht-shd-bx') # Use find_all to get all job listings\n",
        "\n",
        "  for job in jobs:\n",
        "    published_date = job.find('span',class_ = 'sim-posted').span.text.strip()\n",
        "    if 'few' in published_date:\n",
        "\n",
        "      company_name = job.find('h3',class_ = 'joblist-comp-name').text.strip()\n",
        "\n",
        "      skills_text = job.find('div',class_ = 'srp-skills').get_text().strip()\n",
        "      skills = [s.strip() for s in skills_text.split() if s.strip()]\n",
        "      more_info = job.header.h2.a['href']\n",
        "\n",
        "      if unfamiliar_skills not in skills:\n",
        "\n",
        "        print(f'Company Name: {company_name}')\n",
        "        print(f'Published Date: {published_date}')\n",
        "        print(f'Skills: {skills}')\n",
        "        print(f'More Info: {more_info}')\n",
        "\n",
        "        print('')\n",
        "\n",
        "\n",
        "if __name__ == '__main__':\n",
        "  while True:\n",
        "    find_jobs()\n",
        "    time_wait = 10\n",
        "    print(f\"Waiting {time_wait} minutes.\")\n",
        "    time.sleep(time_wait * 6)\n",
        "\n"
      ],
      "metadata": {
        "colab": {
          "base_uri": "https://localhost:8080/",
          "height": 456
        },
        "collapsed": true,
        "id": "QUsqojCGvlaL",
        "outputId": "c23918f8-9e22-4773-c92e-ea079d9fe606"
      },
      "execution_count": 57,
      "outputs": [
        {
          "output_type": "stream",
          "name": "stdout",
          "text": [
            "Enter the skills you are unfamiliar with: django\n",
            "Filtering out django\n",
            "\n",
            "Company Name: speqto technologies pvt ltd\n",
            "Published Date: few days ago\n",
            "Skills: ['c', 'python', 'github', 'c', 'rest', 'api', 'database', 'postgresql', 'debugging', 'data', 'structures']\n",
            "More Info: https://www.timesjobs.com/job-detail/python-developer-speqto-technologies-pvt-ltd-noida-greater-noida-2-to-3-yrs-jobid-ZAtcmZQarJBzpSvf__PLUS__uAgZw==&source=srp\n",
            "\n",
            "Company Name: FINITE HR CONSUTING PVT LTD\n",
            "Published Date: few days ago\n",
            "Skills: ['python', 'github', 'mobile', 'problem', 'solving', 'team', 'player', 'ruby', 'java', 'cassandra', 'php']\n",
            "More Info: https://www.timesjobs.com/job-detail/python-developer-finite-hr-consuting-pvt-ltd-hyderabad-secunderabad-4-to-7-yrs-jobid-fHTaOHRGcKRzpSvf__PLUS__uAgZw==&source=srp\n",
            "\n",
            "Waiting 10 minutes.\n"
          ]
        },
        {
          "output_type": "error",
          "ename": "KeyboardInterrupt",
          "evalue": "",
          "traceback": [
            "\u001b[0;31m---------------------------------------------------------------------------\u001b[0m",
            "\u001b[0;31mKeyboardInterrupt\u001b[0m                         Traceback (most recent call last)",
            "\u001b[0;32m/tmp/ipython-input-2675274547.py\u001b[0m in \u001b[0;36m<cell line: 0>\u001b[0;34m()\u001b[0m\n\u001b[1;32m     35\u001b[0m     \u001b[0mtime_wait\u001b[0m \u001b[0;34m=\u001b[0m \u001b[0;36m10\u001b[0m\u001b[0;34m\u001b[0m\u001b[0;34m\u001b[0m\u001b[0m\n\u001b[1;32m     36\u001b[0m     \u001b[0mprint\u001b[0m\u001b[0;34m(\u001b[0m\u001b[0;34mf\"Waiting {time_wait} minutes.\"\u001b[0m\u001b[0;34m)\u001b[0m\u001b[0;34m\u001b[0m\u001b[0;34m\u001b[0m\u001b[0m\n\u001b[0;32m---> 37\u001b[0;31m     \u001b[0mtime\u001b[0m\u001b[0;34m.\u001b[0m\u001b[0msleep\u001b[0m\u001b[0;34m(\u001b[0m\u001b[0mtime_wait\u001b[0m \u001b[0;34m*\u001b[0m \u001b[0;36m6\u001b[0m\u001b[0;34m)\u001b[0m\u001b[0;34m\u001b[0m\u001b[0;34m\u001b[0m\u001b[0m\n\u001b[0m\u001b[1;32m     38\u001b[0m \u001b[0;34m\u001b[0m\u001b[0m\n",
            "\u001b[0;31mKeyboardInterrupt\u001b[0m: "
          ]
        }
      ]
    },
    {
      "cell_type": "code",
      "source": [],
      "metadata": {
        "id": "8nkfYeCmDaD3"
      },
      "execution_count": null,
      "outputs": []
    }
  ]
}