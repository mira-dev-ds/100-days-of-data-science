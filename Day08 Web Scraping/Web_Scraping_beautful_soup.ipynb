{
  "nbformat": 4,
  "nbformat_minor": 0,
  "metadata": {
    "colab": {
      "provenance": []
    },
    "kernelspec": {
      "name": "python3",
      "display_name": "Python 3"
    },
    "language_info": {
      "name": "python"
    }
  },
  "cells": [
    {
      "cell_type": "code",
      "execution_count": 2,
      "metadata": {
        "id": "Q1IvCl7nk3Lz"
      },
      "outputs": [],
      "source": [
        "from bs4 import BeautifulSoup"
      ]
    },
    {
      "cell_type": "code",
      "source": [
        "with open('home.html','r') as html_file:\n",
        "  content = html_file.read()"
      ],
      "metadata": {
        "id": "OEG66c0ilRNA"
      },
      "execution_count": 4,
      "outputs": []
    },
    {
      "cell_type": "code",
      "source": [
        "soup = BeautifulSoup(content,'lxml')\n"
      ],
      "metadata": {
        "collapsed": true,
        "id": "LggsSEntpG_K"
      },
      "execution_count": 7,
      "outputs": []
    },
    {
      "cell_type": "code",
      "source": [
        "courses_html_tags = soup.find_all('h5')\n",
        "for course in courses_html_tags:\n",
        "  print(course.text)"
      ],
      "metadata": {
        "colab": {
          "base_uri": "https://localhost:8080/"
        },
        "id": "dqsfTC-VppBY",
        "outputId": "7e97cf7d-6ccd-4653-a991-20e1904433fd"
      },
      "execution_count": 13,
      "outputs": [
        {
          "output_type": "stream",
          "name": "stdout",
          "text": [
            "Python for beginners\n",
            "Python Web Development\n",
            "Python Machine Learning\n"
          ]
        }
      ]
    },
    {
      "cell_type": "code",
      "source": [
        "course_cards = soup.find_all('div',class_ = 'card')\n",
        "for course in course_cards:\n",
        "  course_name = course.h5.text\n",
        "  course_price = course.a.text.split()[-1]\n",
        "\n",
        "  print(f'{course_name} costs {course_price}')"
      ],
      "metadata": {
        "colab": {
          "base_uri": "https://localhost:8080/"
        },
        "id": "tPbgLYv8rJWF",
        "outputId": "1dfa8f17-54c8-43c2-8858-344c7283055a"
      },
      "execution_count": 23,
      "outputs": [
        {
          "output_type": "stream",
          "name": "stdout",
          "text": [
            "Python for beginners costs 20$\n",
            "Python Web Development costs 50$\n",
            "Python Machine Learning costs 100$\n"
          ]
        }
      ]
    }
  ]
}