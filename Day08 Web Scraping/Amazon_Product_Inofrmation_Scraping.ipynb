{
  "nbformat": 4,
  "nbformat_minor": 0,
  "metadata": {
    "colab": {
      "provenance": []
    },
    "kernelspec": {
      "name": "python3",
      "display_name": "Python 3"
    },
    "language_info": {
      "name": "python"
    }
  },
  "cells": [
    {
      "cell_type": "code",
      "source": [
        "from bs4 import BeautifulSoup\n",
        "import requests\n",
        "import time\n",
        "\n",
        "# Open CSV file to store results\n",
        "File = open('out.csv', 'a', encoding='utf-8')\n",
        "\n",
        "# Write the header row (only once)\n",
        "File.write(\"Title,Price,Rating,Availability\\n\")\n",
        "\n",
        "# Request headers (browser imitation)\n",
        "HEADERS = ({\n",
        "    'User-Agent': 'Mozilla/5.0 (Windows NT 10.0; Win64; x64) AppleWebKit/537.36 (KHTML, like Gecko) Chrome/120.0.0.0 Safari/537.36',\n",
        "    'Accept-Language': 'en-IN, en;q=0.9'\n",
        "})\n",
        "\n",
        "# Read URLs from text file\n",
        "with open('url.txt', 'r') as f:\n",
        "    urls = f.readlines()\n",
        "\n",
        "# Loop through each product URL\n",
        "for URL in urls:\n",
        "    URL = URL.strip()\n",
        "    if not URL:\n",
        "        continue  # skip blank lines\n",
        "\n",
        "    print(f\"\\nScraping: {URL}\")\n",
        "    webpage = requests.get(URL, headers=HEADERS)\n",
        "    soup = BeautifulSoup(webpage.content, 'lxml')\n",
        "\n",
        "    # Product Title\n",
        "    try:\n",
        "        title = soup.find(\"span\", attrs={\"id\": \"productTitle\"}).string.strip().replace(',', '')\n",
        "    except AttributeError:\n",
        "        title = \"NA\"\n",
        "\n",
        "    # Product Price\n",
        "    try:\n",
        "        price = soup.find(\"span\", attrs={\"class\": \"a-price-whole\"}).text.strip().replace(',', '')\n",
        "    except AttributeError:\n",
        "        # Alternate ID in case first fails\n",
        "        try:\n",
        "            price = soup.find(\"span\", attrs={\"id\": \"priceblock_ourprice\"}).text.strip().replace(',', '')\n",
        "        except:\n",
        "            price = \"NA\"\n",
        "\n",
        "    # Product Rating\n",
        "    try:\n",
        "        rating = soup.find(\"span\", attrs={\"class\": \"a-icon-alt\"}).text.strip()\n",
        "    except AttributeError:\n",
        "        rating = \"NA\"\n",
        "\n",
        "    # Availability Status\n",
        "    try:\n",
        "        available = soup.find(\"div\", attrs={\"id\": \"availability\"}).find(\"span\").text.strip()\n",
        "    except AttributeError:\n",
        "        available = \"NA\"\n",
        "\n",
        "    print(f\"Title: {title}\")\n",
        "    print(f\"Price: {price}\")\n",
        "    print(f\"Rating: {rating}\")\n",
        "    print(f\"Availability: {available}\")\n",
        "\n",
        "    print('')\n",
        "\n",
        "    time.sleep(2)\n",
        "\n",
        "File.close()"
      ],
      "metadata": {
        "colab": {
          "base_uri": "https://localhost:8080/"
        },
        "id": "mhcikyONdh6d",
        "outputId": "148deb40-8fd3-4951-e3fb-142368c53121"
      },
      "execution_count": 20,
      "outputs": [
        {
          "output_type": "stream",
          "name": "stdout",
          "text": [
            "\n",
            "Scraping: https://www.amazon.in/Maybelline-Lipstick-Enriched-Vitamin-SuperStay/dp/B0B9R5F73S/\n",
            "Title: Maybelline High-Glossy New York Superstay Vinyl Ink Liquid Lipstick Lippy Instant Shine & Transfer Proof. Last Up To 16Hr Enriched With Vitamin E & Aloe | 4.2Ml\n",
            "Price: 458.\n",
            "Rating: 4.0 out of 5 stars\n",
            "Availability: In stock\n",
            "\n",
            "\n",
            "Scraping: https://www.amazon.in/Plum-Green-Alcohol-Toner-200ml/dp/B00OCJ5M6C/\n",
            "Title: Plum Green Tea Face Toner For Oily Acne-Prone Skin | With Glycolic Acid | Alcohol-Free | Fights Pimples | Tightens Pores | Controls Oil | Gently Exfoliates Dead Skin Cells | Women & Men | 200ml\n",
            "Price: 369.\n",
            "Rating: 4.2 out of 5 stars\n",
            "Availability: In stock\n",
            "\n",
            "\n",
            "Scraping: https://www.amazon.in/OnePlus-Pad-Lite-Brightness-Blue/dp/B0FHWR3TBX/\n",
            "Title: OnePlus Pad Lite with Biggest Battery in Segment 9340 mAh 11\"(27.94 cm) Display with 500 nits Brightness & 11 Hrs of Video Playback 8GB RAM 128GB Storage LTE Aero Blue\n",
            "Price: 16999.\n",
            "Rating: 4.2 out of 5 stars\n",
            "Availability: In stock\n",
            "\n",
            "\n",
            "Scraping: https://www.amazon.in/Carolina-Herrera-Good-Blush-Parfum/dp/B0BZGB8SR9/\n",
            "Title: Carolina Herrera Good Girl Blush Liquid Eau De Parfum For Women 80ml - Flowery Amber\n",
            "Price: 10332.\n",
            "Rating: 4.7 out of 5 stars\n",
            "Availability: In stock\n",
            "\n"
          ]
        }
      ]
    }
  ]
}